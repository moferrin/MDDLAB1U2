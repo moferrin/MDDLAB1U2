{
  "cells": [
    {
      "cell_type": "code",
      "source": [
        "#Instalacion del modulo scikit-surprise\n",
        "!pip install scikit-surprise"
      ],
      "metadata": {
        "colab": {
          "base_uri": "https://localhost:8080/"
        },
        "id": "97erJmL12I0f",
        "outputId": "3b3528e9-b3da-44bb-c4a2-1915104626ef"
      },
      "id": "97erJmL12I0f",
      "execution_count": null,
      "outputs": [
        {
          "output_type": "stream",
          "name": "stdout",
          "text": [
            "Requirement already satisfied: scikit-surprise in /usr/local/lib/python3.7/dist-packages (1.1.1)\n",
            "Requirement already satisfied: scipy>=1.0.0 in /usr/local/lib/python3.7/dist-packages (from scikit-surprise) (1.4.1)\n",
            "Requirement already satisfied: joblib>=0.11 in /usr/local/lib/python3.7/dist-packages (from scikit-surprise) (1.1.0)\n",
            "Requirement already satisfied: numpy>=1.11.2 in /usr/local/lib/python3.7/dist-packages (from scikit-surprise) (1.19.5)\n",
            "Requirement already satisfied: six>=1.10.0 in /usr/local/lib/python3.7/dist-packages (from scikit-surprise) (1.15.0)\n"
          ]
        }
      ]
    },
    {
      "cell_type": "markdown",
      "source": [
        "# **LIBRERÍAS**\n",
        "\n",
        "**PANDAS** Esta librería nos permite importar desde diferentes fuentes de datos, guardándose en un objeto de tipo data frame con el cual podemos realizar diferentes operaciones.\n",
        "\n",
        "**NUMPY** Permite realizar funciones matemáticas con un alto nivel en la administración de matrices multidimensionales\n",
        "\n",
        "**SKLEARN** Es una librería que cuenta con algoritmos que permiten hacer la agrupación de conjuntos de objetos sin etiquetar y estimar las relaciones que existe entre las variables.\n",
        "\n",
        "**SCIPY** Es una biblioteca de Python que permite hacer la resolución de problemas ya sean matemáticos o científicos. Está construido sobre una extensión de NumPy y permite visualizar los datos con un alto nivel en diferentes comandos.\n",
        "\n",
        "**SURPRISE** Esta librería permite realizar sistemas de recomendación para datos explícitos, ya que tiene muchas funciones avanzadas, permite implementar soluciones de manera rápida para nuestros modelos.\n"
      ],
      "metadata": {
        "id": "TIEr6ZMREnVf"
      },
      "id": "TIEr6ZMREnVf"
    },
    {
      "cell_type": "code",
      "execution_count": null,
      "metadata": {
        "id": "424ae56b"
      },
      "outputs": [],
      "source": [
        "#Importacion de las librerias necesarias para el ejemplo.\n",
        "import pandas as pd\n",
        "import numpy as np\n",
        "\n",
        "from sklearn.metrics.pairwise import cosine_similarity\n",
        "from scipy.sparse import csr_matrix\n",
        "from scipy.sparse.linalg import svds\n",
        "\n",
        "from surprise import Dataset\n",
        "from surprise import Reader\n",
        "from surprise import KNNWithMeans \n",
        "from surprise import accuracy\n",
        "from surprise.model_selection import train_test_split"
      ],
      "id": "424ae56b"
    },
    {
      "cell_type": "code",
      "execution_count": null,
      "metadata": {
        "id": "65eb05b2"
      },
      "outputs": [],
      "source": [
        "# Constante con el nombre del dataset\n",
        "PATH = 'data.csv'"
      ],
      "id": "65eb05b2"
    },
    {
      "cell_type": "markdown",
      "metadata": {
        "id": "ba767811"
      },
      "source": [
        "# Importar datos"
      ],
      "id": "ba767811"
    },
    {
      "cell_type": "code",
      "execution_count": null,
      "metadata": {
        "colab": {
          "base_uri": "https://localhost:8080/"
        },
        "id": "d1a05ffb",
        "outputId": "799ac032-e0e7-42cf-c557-49ce25b4bde9"
      },
      "outputs": [
        {
          "output_type": "execute_result",
          "data": {
            "text/plain": [
              "(100000, 10)"
            ]
          },
          "metadata": {},
          "execution_count": 4
        }
      ],
      "source": [
        "#Importacion y lectura del dataset\n",
        "\n",
        "df = pd.read_csv(PATH)\n",
        "df.shape"
      ],
      "id": "d1a05ffb"
    },
    {
      "cell_type": "code",
      "execution_count": null,
      "metadata": {
        "colab": {
          "base_uri": "https://localhost:8080/",
          "height": 206
        },
        "id": "5aaf9ee7",
        "outputId": "7b43feef-d663-4c02-db60-49af57e8b5ba"
      },
      "outputs": [
        {
          "output_type": "execute_result",
          "data": {
            "text/html": [
              "\n",
              "  <div id=\"df-8cd808f7-0d72-426b-b31d-227fb068be81\">\n",
              "    <div class=\"colab-df-container\">\n",
              "      <div>\n",
              "<style scoped>\n",
              "    .dataframe tbody tr th:only-of-type {\n",
              "        vertical-align: middle;\n",
              "    }\n",
              "\n",
              "    .dataframe tbody tr th {\n",
              "        vertical-align: top;\n",
              "    }\n",
              "\n",
              "    .dataframe thead th {\n",
              "        text-align: right;\n",
              "    }\n",
              "</style>\n",
              "<table border=\"1\" class=\"dataframe\">\n",
              "  <thead>\n",
              "    <tr style=\"text-align: right;\">\n",
              "      <th></th>\n",
              "      <th>book_id</th>\n",
              "      <th>author_id</th>\n",
              "      <th>book_genre</th>\n",
              "      <th>reader_id</th>\n",
              "      <th>num_pages</th>\n",
              "      <th>book_rating</th>\n",
              "      <th>publisher_id</th>\n",
              "      <th>publish_year</th>\n",
              "      <th>book_price</th>\n",
              "      <th>text_lang</th>\n",
              "    </tr>\n",
              "  </thead>\n",
              "  <tbody>\n",
              "    <tr>\n",
              "      <th>0</th>\n",
              "      <td>655</td>\n",
              "      <td>52</td>\n",
              "      <td>4</td>\n",
              "      <td>11482</td>\n",
              "      <td>300</td>\n",
              "      <td>4</td>\n",
              "      <td>8</td>\n",
              "      <td>2012</td>\n",
              "      <td>94</td>\n",
              "      <td>7</td>\n",
              "    </tr>\n",
              "    <tr>\n",
              "      <th>1</th>\n",
              "      <td>2713</td>\n",
              "      <td>90</td>\n",
              "      <td>3</td>\n",
              "      <td>6479</td>\n",
              "      <td>469</td>\n",
              "      <td>1</td>\n",
              "      <td>8</td>\n",
              "      <td>2012</td>\n",
              "      <td>33</td>\n",
              "      <td>5</td>\n",
              "    </tr>\n",
              "    <tr>\n",
              "      <th>2</th>\n",
              "      <td>409</td>\n",
              "      <td>17</td>\n",
              "      <td>2</td>\n",
              "      <td>25472</td>\n",
              "      <td>435</td>\n",
              "      <td>1</td>\n",
              "      <td>12</td>\n",
              "      <td>2001</td>\n",
              "      <td>196</td>\n",
              "      <td>4</td>\n",
              "    </tr>\n",
              "    <tr>\n",
              "      <th>3</th>\n",
              "      <td>1150</td>\n",
              "      <td>234</td>\n",
              "      <td>10</td>\n",
              "      <td>23950</td>\n",
              "      <td>529</td>\n",
              "      <td>2</td>\n",
              "      <td>23</td>\n",
              "      <td>2019</td>\n",
              "      <td>79</td>\n",
              "      <td>2</td>\n",
              "    </tr>\n",
              "    <tr>\n",
              "      <th>4</th>\n",
              "      <td>2424</td>\n",
              "      <td>390</td>\n",
              "      <td>5</td>\n",
              "      <td>13046</td>\n",
              "      <td>395</td>\n",
              "      <td>2</td>\n",
              "      <td>20</td>\n",
              "      <td>2010</td>\n",
              "      <td>200</td>\n",
              "      <td>4</td>\n",
              "    </tr>\n",
              "  </tbody>\n",
              "</table>\n",
              "</div>\n",
              "      <button class=\"colab-df-convert\" onclick=\"convertToInteractive('df-8cd808f7-0d72-426b-b31d-227fb068be81')\"\n",
              "              title=\"Convert this dataframe to an interactive table.\"\n",
              "              style=\"display:none;\">\n",
              "        \n",
              "  <svg xmlns=\"http://www.w3.org/2000/svg\" height=\"24px\"viewBox=\"0 0 24 24\"\n",
              "       width=\"24px\">\n",
              "    <path d=\"M0 0h24v24H0V0z\" fill=\"none\"/>\n",
              "    <path d=\"M18.56 5.44l.94 2.06.94-2.06 2.06-.94-2.06-.94-.94-2.06-.94 2.06-2.06.94zm-11 1L8.5 8.5l.94-2.06 2.06-.94-2.06-.94L8.5 2.5l-.94 2.06-2.06.94zm10 10l.94 2.06.94-2.06 2.06-.94-2.06-.94-.94-2.06-.94 2.06-2.06.94z\"/><path d=\"M17.41 7.96l-1.37-1.37c-.4-.4-.92-.59-1.43-.59-.52 0-1.04.2-1.43.59L10.3 9.45l-7.72 7.72c-.78.78-.78 2.05 0 2.83L4 21.41c.39.39.9.59 1.41.59.51 0 1.02-.2 1.41-.59l7.78-7.78 2.81-2.81c.8-.78.8-2.07 0-2.86zM5.41 20L4 18.59l7.72-7.72 1.47 1.35L5.41 20z\"/>\n",
              "  </svg>\n",
              "      </button>\n",
              "      \n",
              "  <style>\n",
              "    .colab-df-container {\n",
              "      display:flex;\n",
              "      flex-wrap:wrap;\n",
              "      gap: 12px;\n",
              "    }\n",
              "\n",
              "    .colab-df-convert {\n",
              "      background-color: #E8F0FE;\n",
              "      border: none;\n",
              "      border-radius: 50%;\n",
              "      cursor: pointer;\n",
              "      display: none;\n",
              "      fill: #1967D2;\n",
              "      height: 32px;\n",
              "      padding: 0 0 0 0;\n",
              "      width: 32px;\n",
              "    }\n",
              "\n",
              "    .colab-df-convert:hover {\n",
              "      background-color: #E2EBFA;\n",
              "      box-shadow: 0px 1px 2px rgba(60, 64, 67, 0.3), 0px 1px 3px 1px rgba(60, 64, 67, 0.15);\n",
              "      fill: #174EA6;\n",
              "    }\n",
              "\n",
              "    [theme=dark] .colab-df-convert {\n",
              "      background-color: #3B4455;\n",
              "      fill: #D2E3FC;\n",
              "    }\n",
              "\n",
              "    [theme=dark] .colab-df-convert:hover {\n",
              "      background-color: #434B5C;\n",
              "      box-shadow: 0px 1px 3px 1px rgba(0, 0, 0, 0.15);\n",
              "      filter: drop-shadow(0px 1px 2px rgba(0, 0, 0, 0.3));\n",
              "      fill: #FFFFFF;\n",
              "    }\n",
              "  </style>\n",
              "\n",
              "      <script>\n",
              "        const buttonEl =\n",
              "          document.querySelector('#df-8cd808f7-0d72-426b-b31d-227fb068be81 button.colab-df-convert');\n",
              "        buttonEl.style.display =\n",
              "          google.colab.kernel.accessAllowed ? 'block' : 'none';\n",
              "\n",
              "        async function convertToInteractive(key) {\n",
              "          const element = document.querySelector('#df-8cd808f7-0d72-426b-b31d-227fb068be81');\n",
              "          const dataTable =\n",
              "            await google.colab.kernel.invokeFunction('convertToInteractive',\n",
              "                                                     [key], {});\n",
              "          if (!dataTable) return;\n",
              "\n",
              "          const docLinkHtml = 'Like what you see? Visit the ' +\n",
              "            '<a target=\"_blank\" href=https://colab.research.google.com/notebooks/data_table.ipynb>data table notebook</a>'\n",
              "            + ' to learn more about interactive tables.';\n",
              "          element.innerHTML = '';\n",
              "          dataTable['output_type'] = 'display_data';\n",
              "          await google.colab.output.renderOutput(dataTable, element);\n",
              "          const docLink = document.createElement('div');\n",
              "          docLink.innerHTML = docLinkHtml;\n",
              "          element.appendChild(docLink);\n",
              "        }\n",
              "      </script>\n",
              "    </div>\n",
              "  </div>\n",
              "  "
            ],
            "text/plain": [
              "   book_id  author_id  book_genre  ...  publish_year  book_price  text_lang\n",
              "0      655         52           4  ...          2012          94          7\n",
              "1     2713         90           3  ...          2012          33          5\n",
              "2      409         17           2  ...          2001         196          4\n",
              "3     1150        234          10  ...          2019          79          2\n",
              "4     2424        390           5  ...          2010         200          4\n",
              "\n",
              "[5 rows x 10 columns]"
            ]
          },
          "metadata": {},
          "execution_count": 5
        }
      ],
      "source": [
        "#Lectura de los cinco primeros registros del dataset.\n",
        "df.head()"
      ],
      "id": "5aaf9ee7"
    },
    {
      "cell_type": "markdown",
      "metadata": {
        "id": "ea984ed9"
      },
      "source": [
        "# Método 1"
      ],
      "id": "ea984ed9"
    },
    {
      "cell_type": "code",
      "execution_count": null,
      "metadata": {
        "id": "e4d30a66"
      },
      "outputs": [],
      "source": [
        "# Generar una tabla dinámica con lectores en el índice y libros en la columna y valores que son las calificaciones\n",
        "pt_df = df.pivot_table(\n",
        "    columns = 'book_id',\n",
        "    index = 'reader_id',\n",
        "    values = 'book_rating'\n",
        ").fillna(0)\n",
        "\n",
        "# Coversion a una matriz CSR\n",
        "mat = pt_df.values\n",
        "mat = csr_matrix(mat)"
      ],
      "id": "e4d30a66"
    },
    {
      "cell_type": "code",
      "execution_count": null,
      "metadata": {
        "id": "15411d4b"
      },
      "outputs": [],
      "source": [
        "def normalize(pred_ratings):\n",
        "    '''\n",
        "    Esta función normalizará la entrada pred_ratings\n",
        "    \n",
        "    parametros:\n",
        "        pred_ratings (Lista -lista >) : Las calificaciones de predicción\n",
        "    '''\n",
        "    return (pred_ratings - pred_ratings.min()) / (pred_ratings.max() - pred_ratings.min())"
      ],
      "id": "15411d4b"
    },
    {
      "cell_type": "code",
      "execution_count": null,
      "metadata": {
        "id": "e8568d3f"
      },
      "outputs": [],
      "source": [
        "def generate_prediction_df(mat, pt_df, n_factors):\n",
        "    '''\n",
        "        \n",
        "    Esta función calculará la descomposición de un solo valor de la matriz de entrada\n",
        "    dado n_factors. Luego generará y normalizará las predicciones de calificación del usuario.\n",
        "    \n",
        "    parametros:\n",
        "            \n",
        "    mat (CSR Matrix) : matriz scipy csr correspondiente a la tabla dinámica (pt_df)\n",
        "        pt_df (DataFrame) : pandas dataframe que es una tabla dinámica\n",
        "        n_factors (Integer) : Número de valores singulares y vectores a calcular. \n",
        "                              Debe ser 1 < = n_factors < min(mat.shape). \n",
        "    '''\n",
        "    \n",
        "    if not 1 <= n_factors < min(mat.shape):\n",
        "        raise ValueError(\"Must be 1 <= n_factors < min(mat.shape)\")\n",
        "        \n",
        "    # factorización matricial\n",
        "    u, s, v = svds(mat, k = n_factors)\n",
        "    s = np.diag(s)\n",
        "\n",
        "    # calcular clasificaciones de pred\n",
        "    pred_ratings = np.dot(np.dot(u, s), v) \n",
        "    pred_ratings = normalize(pred_ratings)\n",
        "    \n",
        "    # Convertir a df\n",
        "    pred_df = pd.DataFrame(\n",
        "        pred_ratings,\n",
        "        columns = pt_df.columns,\n",
        "        index = list(pt_df.index)\n",
        "    ).transpose()\n",
        "    return pred_df"
      ],
      "id": "e8568d3f"
    },
    {
      "cell_type": "code",
      "execution_count": null,
      "metadata": {
        "colab": {
          "base_uri": "https://localhost:8080/"
        },
        "id": "b0f47b08",
        "outputId": "38454a60-3df9-45da-8df3-b2c2789a2dff"
      },
      "outputs": [
        {
          "output_type": "stream",
          "name": "stdout",
          "text": [
            "CPU times: user 1.27 s, sys: 794 ms, total: 2.06 s\n",
            "Wall time: 1.36 s\n"
          ]
        }
      ],
      "source": [
        "%time pred_df = generate_prediction_df(mat, pt_df, 10)"
      ],
      "id": "b0f47b08"
    },
    {
      "cell_type": "code",
      "execution_count": null,
      "metadata": {
        "id": "def9b4ad"
      },
      "outputs": [],
      "source": [
        "def recommend_items(pred_df, usr_id, n_recs):\n",
        "    '''\n",
        "        \n",
        "      Dada una usr_id y pred_df esta función recomendará\n",
        "        para el usuario.\n",
        "    \n",
        "    parametros:\n",
        "        pred_df (DataFrame) : generado a partir de la función 'generate_prediction_df'\n",
        "        usr_id (Integer) : El usuario para el que desea obtener recomendaciones de artículos\n",
        "        n_recs (Integer) : El número de recomendaciones que desea para este usuario\n",
        "    '''\n",
        "    \n",
        "    usr_pred = pred_df[usr_id].sort_values(ascending = False).reset_index().rename(columns = {usr_id : 'sim'})\n",
        "    rec_df = usr_pred.sort_values(by = 'sim', ascending = False).head(n_recs)\n",
        "    return rec_df"
      ],
      "id": "def9b4ad"
    },
    {
      "cell_type": "code",
      "execution_count": null,
      "metadata": {
        "colab": {
          "base_uri": "https://localhost:8080/",
          "height": 206
        },
        "id": "916d3e60",
        "outputId": "c2bb864e-9468-4983-aa15-62221c8a6a27"
      },
      "outputs": [
        {
          "output_type": "execute_result",
          "data": {
            "text/html": [
              "\n",
              "  <div id=\"df-c8810c7a-8aec-40dc-bda6-f7fa3503da6b\">\n",
              "    <div class=\"colab-df-container\">\n",
              "      <div>\n",
              "<style scoped>\n",
              "    .dataframe tbody tr th:only-of-type {\n",
              "        vertical-align: middle;\n",
              "    }\n",
              "\n",
              "    .dataframe tbody tr th {\n",
              "        vertical-align: top;\n",
              "    }\n",
              "\n",
              "    .dataframe thead th {\n",
              "        text-align: right;\n",
              "    }\n",
              "</style>\n",
              "<table border=\"1\" class=\"dataframe\">\n",
              "  <thead>\n",
              "    <tr style=\"text-align: right;\">\n",
              "      <th></th>\n",
              "      <th>book_id</th>\n",
              "      <th>sim</th>\n",
              "    </tr>\n",
              "  </thead>\n",
              "  <tbody>\n",
              "    <tr>\n",
              "      <th>0</th>\n",
              "      <td>1108</td>\n",
              "      <td>0.143244</td>\n",
              "    </tr>\n",
              "    <tr>\n",
              "      <th>1</th>\n",
              "      <td>1839</td>\n",
              "      <td>0.140945</td>\n",
              "    </tr>\n",
              "    <tr>\n",
              "      <th>2</th>\n",
              "      <td>725</td>\n",
              "      <td>0.140516</td>\n",
              "    </tr>\n",
              "    <tr>\n",
              "      <th>3</th>\n",
              "      <td>1897</td>\n",
              "      <td>0.140497</td>\n",
              "    </tr>\n",
              "    <tr>\n",
              "      <th>4</th>\n",
              "      <td>1341</td>\n",
              "      <td>0.140086</td>\n",
              "    </tr>\n",
              "  </tbody>\n",
              "</table>\n",
              "</div>\n",
              "      <button class=\"colab-df-convert\" onclick=\"convertToInteractive('df-c8810c7a-8aec-40dc-bda6-f7fa3503da6b')\"\n",
              "              title=\"Convert this dataframe to an interactive table.\"\n",
              "              style=\"display:none;\">\n",
              "        \n",
              "  <svg xmlns=\"http://www.w3.org/2000/svg\" height=\"24px\"viewBox=\"0 0 24 24\"\n",
              "       width=\"24px\">\n",
              "    <path d=\"M0 0h24v24H0V0z\" fill=\"none\"/>\n",
              "    <path d=\"M18.56 5.44l.94 2.06.94-2.06 2.06-.94-2.06-.94-.94-2.06-.94 2.06-2.06.94zm-11 1L8.5 8.5l.94-2.06 2.06-.94-2.06-.94L8.5 2.5l-.94 2.06-2.06.94zm10 10l.94 2.06.94-2.06 2.06-.94-2.06-.94-.94-2.06-.94 2.06-2.06.94z\"/><path d=\"M17.41 7.96l-1.37-1.37c-.4-.4-.92-.59-1.43-.59-.52 0-1.04.2-1.43.59L10.3 9.45l-7.72 7.72c-.78.78-.78 2.05 0 2.83L4 21.41c.39.39.9.59 1.41.59.51 0 1.02-.2 1.41-.59l7.78-7.78 2.81-2.81c.8-.78.8-2.07 0-2.86zM5.41 20L4 18.59l7.72-7.72 1.47 1.35L5.41 20z\"/>\n",
              "  </svg>\n",
              "      </button>\n",
              "      \n",
              "  <style>\n",
              "    .colab-df-container {\n",
              "      display:flex;\n",
              "      flex-wrap:wrap;\n",
              "      gap: 12px;\n",
              "    }\n",
              "\n",
              "    .colab-df-convert {\n",
              "      background-color: #E8F0FE;\n",
              "      border: none;\n",
              "      border-radius: 50%;\n",
              "      cursor: pointer;\n",
              "      display: none;\n",
              "      fill: #1967D2;\n",
              "      height: 32px;\n",
              "      padding: 0 0 0 0;\n",
              "      width: 32px;\n",
              "    }\n",
              "\n",
              "    .colab-df-convert:hover {\n",
              "      background-color: #E2EBFA;\n",
              "      box-shadow: 0px 1px 2px rgba(60, 64, 67, 0.3), 0px 1px 3px 1px rgba(60, 64, 67, 0.15);\n",
              "      fill: #174EA6;\n",
              "    }\n",
              "\n",
              "    [theme=dark] .colab-df-convert {\n",
              "      background-color: #3B4455;\n",
              "      fill: #D2E3FC;\n",
              "    }\n",
              "\n",
              "    [theme=dark] .colab-df-convert:hover {\n",
              "      background-color: #434B5C;\n",
              "      box-shadow: 0px 1px 3px 1px rgba(0, 0, 0, 0.15);\n",
              "      filter: drop-shadow(0px 1px 2px rgba(0, 0, 0, 0.3));\n",
              "      fill: #FFFFFF;\n",
              "    }\n",
              "  </style>\n",
              "\n",
              "      <script>\n",
              "        const buttonEl =\n",
              "          document.querySelector('#df-c8810c7a-8aec-40dc-bda6-f7fa3503da6b button.colab-df-convert');\n",
              "        buttonEl.style.display =\n",
              "          google.colab.kernel.accessAllowed ? 'block' : 'none';\n",
              "\n",
              "        async function convertToInteractive(key) {\n",
              "          const element = document.querySelector('#df-c8810c7a-8aec-40dc-bda6-f7fa3503da6b');\n",
              "          const dataTable =\n",
              "            await google.colab.kernel.invokeFunction('convertToInteractive',\n",
              "                                                     [key], {});\n",
              "          if (!dataTable) return;\n",
              "\n",
              "          const docLinkHtml = 'Like what you see? Visit the ' +\n",
              "            '<a target=\"_blank\" href=https://colab.research.google.com/notebooks/data_table.ipynb>data table notebook</a>'\n",
              "            + ' to learn more about interactive tables.';\n",
              "          element.innerHTML = '';\n",
              "          dataTable['output_type'] = 'display_data';\n",
              "          await google.colab.output.renderOutput(dataTable, element);\n",
              "          const docLink = document.createElement('div');\n",
              "          docLink.innerHTML = docLinkHtml;\n",
              "          element.appendChild(docLink);\n",
              "        }\n",
              "      </script>\n",
              "    </div>\n",
              "  </div>\n",
              "  "
            ],
            "text/plain": [
              "   book_id       sim\n",
              "0     1108  0.143244\n",
              "1     1839  0.140945\n",
              "2      725  0.140516\n",
              "3     1897  0.140497\n",
              "4     1341  0.140086"
            ]
          },
          "metadata": {},
          "execution_count": 11
        }
      ],
      "source": [
        "recommend_items(pred_df, 5, 5)"
      ],
      "id": "916d3e60"
    },
    {
      "cell_type": "markdown",
      "metadata": {
        "id": "aad562f7"
      },
      "source": [
        "# **Método 2**"
      ],
      "id": "aad562f7"
    },
    {
      "cell_type": "code",
      "execution_count": null,
      "metadata": {
        "id": "97afdd22"
      },
      "outputs": [],
      "source": [
        "pt_df = df.pivot_table(\n",
        "    columns = 'book_id', \n",
        "    index = 'author_id', \n",
        "    values = 'book_rating'\n",
        ").fillna(0)"
      ],
      "id": "97afdd22"
    },
    {
      "cell_type": "code",
      "execution_count": null,
      "metadata": {
        "id": "9007c257"
      },
      "outputs": [],
      "source": [
        "def find_similar_readers(pt_df, reader_id, n_recs):\n",
        "    '''\n",
        "     Esta función encontrará lectores similares al usuario especificado reader_id\n",
        "    '''\n",
        "    \n",
        "    # lector separado de interés y todos los demás lectores \n",
        "    reader = pt_df[pt_df.index == reader_id]\n",
        "    other_readers = pt_df[pt_df.index != reader_id]\n",
        "\n",
        "    # obtener similitud del lector actual y todos los demás lectores\n",
        "    sim = cosine_similarity(reader, other_readers)[0].tolist()\n",
        "    idx = other_readers.index.tolist()\n",
        "\n",
        "    # Cree un diccionario de similitud para este usuario W.R.T Todos los demás usuarios\n",
        "    idx_sim = dict(zip(idx, sim))\n",
        "    idx_sim = sorted(idx_sim.items(), key=lambda x: x[1], reverse=True)\n",
        "\n",
        "    similar_readers = idx_sim[:n_recs]\n",
        "    readers = [rdr[0] for rdr in similar_readers]\n",
        "\n",
        "    return readers"
      ],
      "id": "9007c257"
    },
    {
      "cell_type": "code",
      "execution_count": null,
      "metadata": {
        "colab": {
          "base_uri": "https://localhost:8080/"
        },
        "id": "8e8faeb3",
        "outputId": "95360749-0419-486a-f59a-76afbdd07691"
      },
      "outputs": [
        {
          "output_type": "execute_result",
          "data": {
            "text/plain": [
              "[319, 191, 145, 162, 212]"
            ]
          },
          "metadata": {},
          "execution_count": 14
        }
      ],
      "source": [
        "find_similar_readers(pt_df = pt_df, reader_id = 226, n_recs = 5)"
      ],
      "id": "8e8faeb3"
    },
    {
      "cell_type": "markdown",
      "metadata": {
        "id": "59917105"
      },
      "source": [
        "# **Método 3**"
      ],
      "id": "59917105"
    },
    {
      "cell_type": "code",
      "execution_count": null,
      "metadata": {
        "id": "bf383b1a"
      },
      "outputs": [],
      "source": [
        "rdf = df[['reader_id', 'book_id', 'book_rating']]"
      ],
      "id": "bf383b1a"
    },
    {
      "cell_type": "code",
      "execution_count": null,
      "metadata": {
        "id": "ea370387"
      },
      "outputs": [],
      "source": [
        "#Lectura del conjunto de datos\n",
        "reader = Reader(rating_scale=(1, 5))\n",
        "data = Dataset.load_from_df(rdf, reader)"
      ],
      "id": "ea370387"
    },
    {
      "cell_type": "code",
      "execution_count": null,
      "metadata": {
        "id": "09286b97"
      },
      "outputs": [],
      "source": [
        "#Dividir el conjunto de datos\n",
        "trainset, testset = train_test_split(data, test_size=0.3,random_state=10)"
      ],
      "id": "09286b97"
    },
    {
      "cell_type": "code",
      "execution_count": null,
      "metadata": {
        "colab": {
          "base_uri": "https://localhost:8080/"
        },
        "id": "c9b43bf0",
        "outputId": "42bca335-edac-4d68-cc5c-14db129131ff"
      },
      "outputs": [
        {
          "output_type": "stream",
          "name": "stdout",
          "text": [
            "Estimating biases using als...\n",
            "Computing the pearson_baseline similarity matrix...\n",
            "Done computing similarity matrix.\n"
          ]
        },
        {
          "output_type": "execute_result",
          "data": {
            "text/plain": [
              "<surprise.prediction_algorithms.knns.KNNWithMeans at 0x7fdba338d090>"
            ]
          },
          "metadata": {},
          "execution_count": 18
        }
      ],
      "source": [
        "# Utilice user_based true/false para cambiar entre el filtrado colaborativo basado en usuarios o en elementos\n",
        "algo = KNNWithMeans(k=5, sim_options={'name': 'pearson_baseline', 'user_based': False})\n",
        "algo.fit(trainset)"
      ],
      "id": "c9b43bf0"
    },
    {
      "cell_type": "code",
      "execution_count": null,
      "metadata": {
        "id": "f7bdccd0"
      },
      "outputs": [],
      "source": [
        "# Ejecute el modelo entrenado en el conjunto de pruebas\n",
        "test_pred = algo.test(testset)"
      ],
      "id": "f7bdccd0"
    },
    {
      "cell_type": "code",
      "execution_count": null,
      "metadata": {
        "colab": {
          "base_uri": "https://localhost:8080/"
        },
        "id": "0ae91798",
        "outputId": "323b9db7-1cb6-45d9-eee0-3c3ffffaf26a"
      },
      "outputs": [
        {
          "output_type": "stream",
          "name": "stdout",
          "text": [
            "RMSE: 2.9306\n"
          ]
        },
        {
          "output_type": "execute_result",
          "data": {
            "text/plain": [
              "2.9306185721359865"
            ]
          },
          "metadata": {},
          "execution_count": 20
        }
      ],
      "source": [
        "# obtener RMSE\n",
        "accuracy.rmse(test_pred, verbose=True)"
      ],
      "id": "0ae91798"
    },
    {
      "cell_type": "code",
      "execution_count": null,
      "metadata": {
        "colab": {
          "base_uri": "https://localhost:8080/"
        },
        "id": "68751624",
        "outputId": "31dc1e22-f110-4430-8872-41aed0028731"
      },
      "outputs": [
        {
          "output_type": "execute_result",
          "data": {
            "text/plain": [
              "Prediction(uid=10, iid=43, r_ui=None, est=5, details={'actual_k': 0, 'was_impossible': False})"
            ]
          },
          "metadata": {},
          "execution_count": 21
        }
      ],
      "source": [
        "algo.predict(uid = 10, iid = 43)"
      ],
      "id": "68751624"
    },
    {
      "cell_type": "markdown",
      "source": [
        "# **Interpretación de la métrica**\n",
        "Con respecto a la medida de rendimiento de RMSE, se obtuvo como resultado 2.9306, este valor es bajo y por lo tanto indica que se tiene un mejor ajuste. Esta medida nos indica una buena precisión y por lo tanto el modelo predice la respuesta. Además con este valor nos indica que el modelo realiza buenas predicciones. Como se pudo observar la implementación generada realiza recomendaciones de artículos basadas en user_id. \n"
      ],
      "metadata": {
        "id": "Vf7iALH0cC_a"
      },
      "id": "Vf7iALH0cC_a"
    }
  ],
  "metadata": {
    "colab": {
      "name": "[NRC_8888] MaronFerrin_Lab1Unidad2.ipynb",
      "provenance": [],
      "collapsed_sections": []
    },
    "kernelspec": {
      "display_name": "Python 3",
      "language": "python",
      "name": "python3"
    },
    "language_info": {
      "codemirror_mode": {
        "name": "ipython",
        "version": 3
      },
      "file_extension": ".py",
      "mimetype": "text/x-python",
      "name": "python",
      "nbconvert_exporter": "python",
      "pygments_lexer": "ipython3",
      "version": "3.6.10"
    }
  },
  "nbformat": 4,
  "nbformat_minor": 5
}